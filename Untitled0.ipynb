{
  "cells": [
    {
      "cell_type": "markdown",
      "metadata": {
        "id": "view-in-github",
        "colab_type": "text"
      },
      "source": [
        "<a href=\"https://colab.research.google.com/github/Ganeshnayak504/dev/blob/main/Untitled0.ipynb\" target=\"_parent\"><img src=\"https://colab.research.google.com/assets/colab-badge.svg\" alt=\"Open In Colab\"/></a>"
      ]
    },
    {
      "cell_type": "code",
      "execution_count": 27,
      "metadata": {
        "colab": {
          "base_uri": "https://localhost:8080/"
        },
        "id": "JgyDKlkfJzMY",
        "outputId": "cd5accbb-b25e-41fa-a916-c68509789ca2"
      },
      "outputs": [
        {
          "output_type": "stream",
          "name": "stdout",
          "text": [
            "hello world\n"
          ]
        }
      ],
      "source": [
        "print(\"hello world\")"
      ]
    },
    {
      "cell_type": "code",
      "execution_count": 20,
      "metadata": {
        "colab": {
          "base_uri": "https://localhost:8080/"
        },
        "id": "GHg0cWcqKFyM",
        "outputId": "843d34e8-fd22-4b95-e22c-84e06c9ef1c4"
      },
      "outputs": [
        {
          "output_type": "stream",
          "name": "stdout",
          "text": [
            "5\n",
            "78.5\n"
          ]
        }
      ],
      "source": [
        "def area_of_circle(r):\n",
        "    return 3.14 * r * r\n",
        "\n",
        "\n",
        "radius = int(input())\n",
        "\n",
        "print( area_of_circle(radius))\n"
      ]
    },
    {
      "cell_type": "code",
      "execution_count": 26,
      "metadata": {
        "colab": {
          "base_uri": "https://localhost:8080/"
        },
        "id": "STW838YTT5xm",
        "outputId": "fa2bd5ef-f6d0-4cd2-9fef-168d5e043097"
      },
      "outputs": [
        {
          "output_type": "stream",
          "name": "stdout",
          "text": [
            "GANESH\n",
            "2\n"
          ]
        }
      ],
      "source": [
        "def vowels_s(s):\n",
        "    vowels = \"aeiou\"\n",
        "    count = 0\n",
        "    for i in s.lower():\n",
        "        if i in vowels:\n",
        "            count += 1\n",
        "    return count\n",
        "\n",
        "\n",
        "s = input()\n",
        "\n",
        "\n",
        "print(vowels_s(s))\n",
        "\n"
      ]
    },
    {
      "cell_type": "code",
      "source": [
        "n = input()\n",
        "v = \"aeiou\"\n",
        "c = 0\n",
        "for i in n.lower() :\n",
        "  if i in v:\n",
        "    c+=1\n",
        "print(c)"
      ],
      "metadata": {
        "colab": {
          "base_uri": "https://localhost:8080/"
        },
        "id": "boWvlDQ_KOqU",
        "outputId": "114e1bf2-d328-4a6c-deb0-be8e46bcad38"
      },
      "execution_count": 28,
      "outputs": [
        {
          "output_type": "stream",
          "name": "stdout",
          "text": [
            "Ganesh\n",
            "2\n"
          ]
        }
      ]
    },
    {
      "cell_type": "code",
      "source": [
        "s={'Mumbai' :50 ,'Hyd': 40,'delhi':30 , 'dubai':20, 'Jaipur':100, 'kol': 350 , 'chenni': 280 ,'dadar' :200 }\n",
        "for i in s:\n",
        "  if s[i] <= 100:\n",
        "    print(i)"
      ],
      "metadata": {
        "colab": {
          "base_uri": "https://localhost:8080/"
        },
        "id": "rJbCu-gyEYdh",
        "outputId": "4796b64e-b363-4246-b04e-ddb668c4b9be"
      },
      "execution_count": 18,
      "outputs": [
        {
          "output_type": "stream",
          "name": "stdout",
          "text": [
            "Mumbai\n",
            "Hyd\n",
            "delhi\n",
            "dubai\n",
            "Jaipur\n"
          ]
        }
      ]
    }
  ],
  "metadata": {
    "colab": {
      "provenance": [],
      "authorship_tag": "ABX9TyO6eboiQ6HO3NdY0Hlrj4mf",
      "include_colab_link": true
    },
    "kernelspec": {
      "display_name": "Python 3",
      "name": "python3"
    },
    "language_info": {
      "name": "python"
    }
  },
  "nbformat": 4,
  "nbformat_minor": 0
}